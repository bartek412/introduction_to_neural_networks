{
 "cells": [
  {
   "cell_type": "markdown",
   "metadata": {},
   "source": [
    "## Zadanie klasyfikacja"
   ]
  },
  {
   "cell_type": "code",
   "execution_count": 1,
   "metadata": {},
   "outputs": [],
   "source": [
    "import numpy as np\n",
    "import pandas as pd\n"
   ]
  },
  {
   "cell_type": "code",
   "execution_count": 2,
   "metadata": {},
   "outputs": [],
   "source": [
    "class Network:\n",
    "    def __init__(self, eta, layers, max_i=10000, max_error=0.00001):\n",
    "        self._eta = eta\n",
    "        self._layers = layers\n",
    "        self._w = []\n",
    "        self._y = []\n",
    "        self._delta = []\n",
    "        self.max_i = max_i\n",
    "        self.max_error = max_error\n",
    "\n",
    "    def sigmoid(self, x, derivative=False):\n",
    "        if derivative:\n",
    "            return x * (1 - x)\n",
    "        return 1 / (1 + np.exp(-x))\n",
    "\n",
    "    def _create_weights(self, x_num):\n",
    "        for i, layer_i in enumerate(self._layers):\n",
    "            if i == 0:\n",
    "                self._w.append(\n",
    "                    np.random.uniform(-1, 1, size=(layer_i, x_num + 1)))\n",
    "            else:\n",
    "                self._w.append(\n",
    "                    np.random.uniform(\n",
    "                        -1, 1, size=(layer_i, self._w[i - 1].shape[0] + 1)\n",
    "                    )\n",
    "                )\n",
    "            self._y.append(np.zeros(layer_i))\n",
    "            self._delta.append(np.zeros(layer_i))\n",
    "\n",
    "    def _forward_progation(self, x):\n",
    "        for i in range(len(self._layers)):\n",
    "            if i == 0:\n",
    "                self._y[i] = np.dot(self._w[i], np.append(np.array(1), x))\n",
    "            else:\n",
    "                self._y[i] = np.dot(self._w[i], np.append(\n",
    "                    np.array(1), self._y[i - 1]))\n",
    "            self._y[i] = self.sigmoid(self._y[i])\n",
    "\n",
    "    def _backward_propagation(self, expected_output):\n",
    "        for i in range(len(self._y) - 1, -1, -1):\n",
    "            if i == len(self._y) - 1:\n",
    "                error = expected_output - self._y[i]\n",
    "                self._delta[i] = error * self.sigmoid(self._y[i], True)\n",
    "            else:\n",
    "                self._delta[i] = np.dot(\n",
    "                    self._w[i+1][:, 1:].T, self._delta[i+1]) * self.sigmoid(self._y[i], True)\n",
    "        return error\n",
    "\n",
    "    def _update(self, x):\n",
    "        for i in range(len(self._layers)):\n",
    "            for j in range(len(self._delta[i])):\n",
    "                if i == 0:\n",
    "                    self._w[i][j] += np.append([1], x) * \\\n",
    "                        self._delta[i][j] * self._eta\n",
    "                else:\n",
    "                    self._w[i][j] += (\n",
    "                        np.append([1], self._y[i - 1]) *\n",
    "                        self._delta[i][j] * self._eta\n",
    "                    )\n",
    "\n",
    "    def fit(self, x, y, verbose=False):\n",
    "        self._create_weights(np.shape(x)[1])\n",
    "        data = list(zip(x, y))\n",
    "        for epoch in range(self.max_i):\n",
    "            np.random.shuffle(data)\n",
    "            E = 0\n",
    "            for x_i, y_i in data:\n",
    "                self._forward_progation(x_i)\n",
    "                b = self._backward_propagation(y_i)\n",
    "                b = b**2\n",
    "                E += 0.5 * b.sum()\n",
    "                self._update(x_i)\n",
    "            if E < self.max_error:\n",
    "                break\n",
    "            if verbose:\n",
    "                print(f\"Epoka: {epoch+1} z {self.max_i}, blad: {E}\")\n",
    "        return E\n",
    "\n",
    "    def predict(self, x):\n",
    "        self._forward_progation(x)\n",
    "        return self._y[-1]\n"
   ]
  },
  {
   "cell_type": "code",
   "execution_count": 3,
   "metadata": {},
   "outputs": [],
   "source": [
    "df = pd.read_csv(\"data/iris.data\", header=None)\n"
   ]
  },
  {
   "cell_type": "code",
   "execution_count": 4,
   "metadata": {},
   "outputs": [],
   "source": [
    "from sklearn.model_selection import StratifiedShuffleSplit\n",
    "from sklearn.preprocessing import OneHotEncoder\n",
    "\n",
    "split = StratifiedShuffleSplit(n_splits=1, test_size=0.4, random_state=42)\n",
    "for train_index, test_index in split.split(df, df[4]):\n",
    "    x_train, y_train = df.loc[train_index,\n",
    "                              :3].to_numpy(), df.loc[train_index, 4]\n",
    "    x_test, y_test = df.loc[test_index, :3].to_numpy(), df.loc[test_index, 4]\n",
    "\n",
    "cat_encoder = OneHotEncoder()\n",
    "y_train = cat_encoder.fit_transform(pd.DataFrame(y_train)[[4]]).toarray()\n",
    "y_test = cat_encoder.fit_transform(pd.DataFrame(y_test)[[4]]).toarray()\n"
   ]
  },
  {
   "cell_type": "code",
   "execution_count": 5,
   "metadata": {},
   "outputs": [],
   "source": [
    "networks = []\n",
    "for i in range(1, 6):\n",
    "    network = Network(0.2, (i, 3), 200, 0.01)\n",
    "    network.fit(x_train, y_train)\n",
    "    networks.append(network)\n"
   ]
  },
  {
   "cell_type": "code",
   "execution_count": 6,
   "metadata": {},
   "outputs": [],
   "source": [
    "result = []\n",
    "for j in range(5):\n",
    "    result_pred = []\n",
    "    for i in range(len(x_test)):\n",
    "        y_pred = networks[j].predict(x_test[i])\n",
    "        y_result = np.zeros(3)\n",
    "        y_result[np.argmax(y_pred)] = 1\n",
    "        result_pred.append(y_result)\n",
    "    result.append(result_pred)\n"
   ]
  },
  {
   "cell_type": "code",
   "execution_count": 7,
   "metadata": {},
   "outputs": [
    {
     "name": "stdout",
     "output_type": "stream",
     "text": [
      "(1, 3)\n",
      "Accuracy: 0.8666666666666667\n",
      "roc_auc_score: 0.9\n",
      "(2, 3)\n",
      "Accuracy: 0.9833333333333333\n",
      "roc_auc_score: 0.9874999999999999\n",
      "(3, 3)\n",
      "Accuracy: 0.9333333333333333\n",
      "roc_auc_score: 0.9500000000000001\n",
      "(4, 3)\n",
      "Accuracy: 0.8666666666666667\n",
      "roc_auc_score: 0.9\n",
      "(5, 3)\n",
      "Accuracy: 0.9666666666666667\n",
      "roc_auc_score: 0.975\n"
     ]
    }
   ],
   "source": [
    "from sklearn.metrics import accuracy_score, roc_auc_score\n",
    "\n",
    "for i in range(5):\n",
    "    print(networks[i]._layers)\n",
    "    print(f\"Accuracy: {accuracy_score(y_test, result[i])}\")\n",
    "    print(f\"roc_auc_score: {roc_auc_score(y_test, result[i])}\")\n"
   ]
  },
  {
   "cell_type": "code",
   "execution_count": null,
   "metadata": {},
   "outputs": [],
   "source": []
  }
 ],
 "metadata": {
  "interpreter": {
   "hash": "fccbd56bc23e2b4e7248cdc279fd7290061cd35578112c55b9c1cf23159bb23f"
  },
  "kernelspec": {
   "display_name": "Python 3.10.0 ('ml')",
   "language": "python",
   "name": "python3"
  },
  "language_info": {
   "codemirror_mode": {
    "name": "ipython",
    "version": 3
   },
   "file_extension": ".py",
   "mimetype": "text/x-python",
   "name": "python",
   "nbconvert_exporter": "python",
   "pygments_lexer": "ipython3",
   "version": "3.8.10"
  },
  "orig_nbformat": 4
 },
 "nbformat": 4,
 "nbformat_minor": 2
}
