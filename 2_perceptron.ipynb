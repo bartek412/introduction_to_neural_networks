{
 "cells": [
  {
   "cell_type": "markdown",
   "metadata": {},
   "source": [
    "## Zadanie\n",
    "Zadaniem jest implementacja i nauka neuronu używając reguły perceptronu, zgodnie ze zbiorem danych przedstawionym w poniższej tabeli.\n",
    "\n",
    "\n",
    "| wejście x1 | -3 | -2 |  0 |  2 | -2 |  0 | 2 |  3 |\n",
    "|:----------:|:--:|:--:|:--:|:--:|:--:|:--:|:-:|:--:|\n",
    "| wejście x2 | -4 |  1 |  1 |  2 | -4 | -2 | 1 | -4 |\n",
    "|  wyjście y | -1 | -1 | -1 | -1 |  1 |  1 | 1 |  1 |"
   ]
  },
  {
   "cell_type": "code",
   "execution_count": 31,
   "metadata": {
    "pycharm": {
     "name": "#%%\n"
    }
   },
   "outputs": [],
   "source": [
    "import numpy as np\n",
    "import matplotlib.pyplot as plt"
   ]
  },
  {
   "cell_type": "code",
   "execution_count": 32,
   "metadata": {
    "pycharm": {
     "name": "#%%\n"
    }
   },
   "outputs": [],
   "source": [
    "data = np.transpose(np.array([(1, 1, 1, 1, 1, 1, 1, 1), (-3, -2, 0, 2, -2, 0, 2, 3),\n",
    "                              (-4, 1, 1, 2, -4, -2, 1, -4), (-1, -1, -1, -1, 1, 1, 1, 1)]))"
   ]
  },
  {
   "cell_type": "code",
   "execution_count": 33,
   "metadata": {
    "pycharm": {
     "name": "#%%\n"
    }
   },
   "outputs": [],
   "source": [
    "def neuron(x, w):\n",
    "    net = np.dot(x, w)\n",
    "    return 1 if net >= 0 else -1"
   ]
  },
  {
   "cell_type": "code",
   "execution_count": 34,
   "metadata": {
    "pycharm": {
     "name": "#%%\n"
    }
   },
   "outputs": [],
   "source": [
    "def perceptron(data, eta, max_iteration=1000):\n",
    "    %matplotlib\n",
    "    w = np.random.rand(np.size(data, 1) - 1)\n",
    "    for epoch in range(1, max_iteration + 1):\n",
    "        np.random.shuffle(data)\n",
    "        for i, row in enumerate(data,1):\n",
    "            plt.clf()\n",
    "            y = neuron(row[:-1], w)\n",
    "            r = row[-1] - y\n",
    "            w += eta * r * row[:-1]\n",
    "\n",
    "            #generowanie wykresu\n",
    "            slope = -(w[0] / w[2]) / (w[0] / w[1])\n",
    "            intercept = -w[0] / w[2]\n",
    "            x = np.linspace(-5, 5, 100)\n",
    "            y = slope * x + intercept\n",
    "            colormap = np.array(['b', 'r', 'g'])\n",
    "            categories = data[:, -1]\n",
    "            plt.plot(x, y)\n",
    "            plt.xlim(-6, 6)\n",
    "            plt.ylim(-6, 6)\n",
    "            plt.title(f'Epoka : {epoch}, {i} z {np.size(data, 0)}')\n",
    "            plt.scatter(data[:, 1], data[:, 2], c=colormap[categories])\n",
    "            plt.pause(.05)\n",
    "        err = 0\n",
    "        for row in data:\n",
    "            y = neuron(row[:-1], w)\n",
    "            if row[-1] != y:\n",
    "                err += 1\n",
    "        if err == 0:\n",
    "            break\n"
   ]
  },
  {
   "cell_type": "code",
   "execution_count": 37,
   "metadata": {
    "pycharm": {
     "name": "#%%\n"
    }
   },
   "outputs": [
    {
     "name": "stdout",
     "output_type": "stream",
     "text": [
      "Using matplotlib backend: TkAgg\n"
     ]
    }
   ],
   "source": [
    "perceptron(data, 0.05)"
   ]
  },
  {
   "cell_type": "code",
   "execution_count": null,
   "metadata": {
    "pycharm": {
     "name": "#%%\n"
    }
   },
   "outputs": [],
   "source": []
  }
 ],
 "metadata": {
  "kernelspec": {
   "display_name": "Python 3 (ipykernel)",
   "language": "python",
   "name": "python3"
  },
  "language_info": {
   "codemirror_mode": {
    "name": "ipython",
    "version": 3
   },
   "file_extension": ".py",
   "mimetype": "text/x-python",
   "name": "python",
   "nbconvert_exporter": "python",
   "pygments_lexer": "ipython3",
   "version": "3.8.10"
  }
 },
 "nbformat": 4,
 "nbformat_minor": 1
}