{
 "cells": [
  {
   "cell_type": "code",
   "execution_count": 18,
   "metadata": {},
   "outputs": [],
   "source": [
    "import numpy as np\n",
    "import random\n",
    "import matplotlib.pyplot as plt\n"
   ]
  },
  {
   "cell_type": "code",
   "execution_count": 19,
   "metadata": {},
   "outputs": [],
   "source": [
    "class RBF:\n",
    "    def __init__(self, radial_neurons_num=3):\n",
    "        self._radial_neurons_num = radial_neurons_num\n",
    "        self._w = None\n",
    "        self._c = None\n",
    "\n",
    "    def activation_function(self, x, c):\n",
    "        return np.exp(-(x-c)**2)\n",
    "\n",
    "    def _calculate_matrix(self, x):\n",
    "        G = np.zeros((len(x), self._radial_neurons_num))\n",
    "        for i, center in enumerate(self._c):\n",
    "            G[:, i] = self.activation_function(center, x)\n",
    "        return G\n",
    "\n",
    "    def fit(self, x, y):\n",
    "        c = random.sample(list(x), k=self._radial_neurons_num)\n",
    "        self._c = np.array(c)\n",
    "        g = self._calculate_matrix(x)\n",
    "        self._w = np.dot(np.linalg.pinv(g), y)\n",
    "\n",
    "    def predict(self, x):\n",
    "        G = self._calculate_matrix(x)\n",
    "        return np.dot(G, self._w)\n"
   ]
  },
  {
   "cell_type": "code",
   "execution_count": 20,
   "metadata": {},
   "outputs": [],
   "source": [
    "x = np.linspace(-1, 1, 50)\n",
    "y = np.sin((x+0.5)**3) + np.random.uniform(-0.1, 0.1, size=len(x))\n"
   ]
  },
  {
   "cell_type": "code",
   "execution_count": 21,
   "metadata": {},
   "outputs": [
    {
     "name": "stdout",
     "output_type": "stream",
     "text": [
      "Using matplotlib backend: QtAgg\n"
     ]
    }
   ],
   "source": [
    "%matplotlib\n",
    "for i in range(1, 10):\n",
    "    rbf = RBF(i)\n",
    "    rbf.fit(x, y)\n",
    "    result = rbf.predict(x)\n",
    "    plt.clf()\n",
    "    plt.plot(x, np.sin((x+0.5)**3), label='Original function')\n",
    "    plt.plot(x, y, label='Function with noise')\n",
    "    plt.plot(x, result, label='RBF')\n",
    "    plt.legend(loc=\"upper left\")\n",
    "    plt.title(f'Number of radial neurons: {i}')\n",
    "    plt.pause(.5)\n",
    "plt.close()\n"
   ]
  },
  {
   "cell_type": "code",
   "execution_count": null,
   "metadata": {},
   "outputs": [],
   "source": []
  }
 ],
 "metadata": {
  "interpreter": {
   "hash": "916dbcbb3f70747c44a77c7bcd40155683ae19c65e1c03b4aa3499c5328201f1"
  },
  "kernelspec": {
   "display_name": "Python 3.8.10 64-bit",
   "language": "python",
   "name": "python3"
  },
  "language_info": {
   "codemirror_mode": {
    "name": "ipython",
    "version": 3
   },
   "file_extension": ".py",
   "mimetype": "text/x-python",
   "name": "python",
   "nbconvert_exporter": "python",
   "pygments_lexer": "ipython3",
   "version": "3.10.4"
  },
  "orig_nbformat": 4
 },
 "nbformat": 4,
 "nbformat_minor": 2
}
